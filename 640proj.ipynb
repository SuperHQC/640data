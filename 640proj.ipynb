{
 "cells": [
  {
   "cell_type": "code",
   "execution_count": 1,
   "metadata": {},
   "outputs": [],
   "source": [
    "import cv2\n",
    "import csv"
   ]
  },
  {
   "cell_type": "code",
   "execution_count": 2,
   "metadata": {},
   "outputs": [],
   "source": [
    "filenames = []\n",
    "labels = []\n",
    "with open('Labels.csv') as index:\n",
    "    index = csv.reader(index)\n",
    "    for r in index:\n",
    "        filenames.append(r[0])\n",
    "        labels.append(r[1])\n",
    "        \n",
    "del filenames[0]\n",
    "del labels[0]"
   ]
  },
  {
   "cell_type": "code",
   "execution_count": 3,
   "metadata": {},
   "outputs": [],
   "source": [
    "import numpy as np"
   ]
  },
  {
   "cell_type": "code",
   "execution_count": 4,
   "metadata": {},
   "outputs": [],
   "source": [
    "labels_hot = []\n",
    "for x in labels:\n",
    "    if x == 'Positive':\n",
    "        labels_hot.append([1,0,0])\n",
    "    if x == 'Neutral':\n",
    "        labels_hot.append([0,1,0])\n",
    "    if x == 'Negative':\n",
    "        labels_hot.append([0,0,1])"
   ]
  },
  {
   "cell_type": "code",
   "execution_count": null,
   "metadata": {},
   "outputs": [],
   "source": [
    "lb_idx = 0\n",
    "final_label=[]\n",
    "f_idx = 0\n",
    "classfier = cv2.CascadeClassifier('haarcascade_frontalface_alt2.xml')\n",
    "color = (0,255,0)\n",
    "for file in filenames:\n",
    "    filename = './presidential_videos/' + file\n",
    "    cap = cv2.VideoCapture(filename)\n",
    "    count = 0\n",
    "    while(cap.isOpened()):\n",
    "        success, frame = cap.read()\n",
    "        if not success:\n",
    "            break\n",
    "        gray = cv2.cvtColor(frame,cv2.COLOR_BGR2GRAY)\n",
    "        faceRects = classfier.detectMultiScale(gray, scaleFactor=1.5,minNeighbors=8, minSize=(32,32))\n",
    "        \n",
    "        if len(faceRects)>0:\n",
    "            for fr in faceRects:\n",
    "                x,y,w,h = fr\n",
    "#                 cv2.rectangle(frame,(x-20,y-20), (x+w+10,y+h+10), color, 1)\n",
    "                image = frame[y:y+h, x:x+w]\n",
    "                im_name = './data/' + str(f_idx)+'.jpg'\n",
    "                final_label.append(labels[lb_idx])\n",
    "                f_idx += 1\n",
    "                cv2.imwrite(im_name, image)\n",
    "                count += 1\n",
    "#                 cv2.imshow('frame', frame)\n",
    "#         if cv2.waitKey(1) & 0xFF == ord('q'):\n",
    "#             break\n",
    "        if count >= 30:\n",
    "            break\n",
    "    lb_idx += 1\n",
    "#     break\n",
    "# cv2.destroyAllWindows()\n",
    "cap.release()"
   ]
  },
  {
   "cell_type": "code",
   "execution_count": null,
   "metadata": {},
   "outputs": [],
   "source": [
    "print(len(final_label))"
   ]
  },
  {
   "cell_type": "code",
   "execution_count": null,
   "metadata": {},
   "outputs": [],
   "source": [
    "import os\n",
    "\n",
    "image_size = 64\n",
    "def resize_img(image, height = image_size, width = image_size):\n",
    "    top,bottom, left, right = (0,0,0,0)\n",
    "    \n",
    "    h,w,_=image.shape\n",
    "    \n",
    "    longest_edge = max(h,w)\n",
    "    \n",
    "    if h < longest_edge:\n",
    "        dh = longest_edge - h\n",
    "        top = dh // 2\n",
    "        bottom = dh - top\n",
    "    elif w < longest_edge:\n",
    "        dw = longest_edge - w\n",
    "        left = dw // 2\n",
    "        right = dw - left\n",
    "    else:\n",
    "        pass\n",
    "    \n",
    "    BLACK = [0,0,0]\n",
    "    constant = cv2.copyMakeBorder(image, top,bottom, left,right, cv2.BORDER_CONSTANT,value = BLACK)\n",
    "    \n",
    "    return cv2.resize(constant, (height,width))"
   ]
  },
  {
   "cell_type": "code",
   "execution_count": null,
   "metadata": {},
   "outputs": [],
   "source": [
    "images = []\n",
    "\n",
    "count = 0\n",
    "img_name = str(count) +'.jpg'\n",
    "\n",
    "for i in range(len(final_label)):\n",
    "    image = cv2.imread('./data/'+img_name)\n",
    "    if image is None:\n",
    "        del final_label[i]\n",
    "    else:\n",
    "        image = resize_img(image, image_size, image_size)\n",
    "        images.append(image)\n",
    "        \n",
    "print(len(images))\n",
    "print(len(final_label))\n",
    "        "
   ]
  },
  {
   "cell_type": "code",
   "execution_count": null,
   "metadata": {},
   "outputs": [],
   "source": [
    "images = np.array(images, dtype='float')\n",
    "final_label = np.array(final_label)\n",
    "\n",
    "print(images.shape)\n",
    "print(final_label.shape)\n",
    "\n"
   ]
  },
  {
   "cell_type": "code",
   "execution_count": null,
   "metadata": {},
   "outputs": [],
   "source": [
    "import keras\n",
    "from sklearn.model_selection import train_test_split\n",
    "from keras.preprocesing.image import ImageDataGenerator\n",
    "from keras.models import Sequential\n",
    "from keras.layers import Dense, Dropout, Activation, Flatten, Conv2D, MaxPoling2D\n",
    "from keras.optimizers import SGD\n",
    "from keras.models import load_model\n",
    "from keras.import backend as K"
   ]
  },
  {
   "cell_type": "code",
   "execution_count": null,
   "metadata": {},
   "outputs": [],
   "source": [
    "train_images, test_images, train_labels, test_labels = train_test_split(images, final_label, test_size = 0.3, random_state = random.randint(0,100))\n",
    "print(test_labels)"
   ]
  },
  {
   "cell_type": "code",
   "execution_count": null,
   "metadata": {},
   "outputs": [],
   "source": [
    "image_Channels = 3"
   ]
  },
  {
   "cell_type": "code",
   "execution_count": null,
   "metadata": {},
   "outputs": [],
   "source": [
    "if K.image_data_format == 'channel_first':\n",
    "    train_images = train_images.reshape(train_images.shape[0],img_channels, image_size, image_size)\n",
    "    test_images = test_images.reshape(test_images.shape[0],img_channels, image_size, image_size)\n",
    "    self.input_shape = (img_channels, image_size, image_size)\n",
    "else:\n",
    "    train_images = train_images.reshape(train_images.shape[0], image_size, image_size, img_channels)\n",
    "    test_images = test_images.reshape(test_images.shape[0], image_size, image_size, img_channels)\n",
    "    self.input_shape = (image_size, image_size, img_channels)"
   ]
  },
  {
   "cell_type": "code",
   "execution_count": null,
   "metadata": {},
   "outputs": [],
   "source": [
    "print(train_images.shape[0],'train samples')\n",
    "print(test_images.shape[0], 'test samples')"
   ]
  },
  {
   "cell_type": "code",
   "execution_count": null,
   "metadata": {},
   "outputs": [],
   "source": [
    "train_images /= 255\n",
    "test_images /= 255\n",
    "\n"
   ]
  }
 ],
 "metadata": {
  "kernelspec": {
   "display_name": "Python 3",
   "language": "python",
   "name": "python3"
  },
  "language_info": {
   "codemirror_mode": {
    "name": "ipython",
    "version": 3
   },
   "file_extension": ".py",
   "mimetype": "text/x-python",
   "name": "python",
   "nbconvert_exporter": "python",
   "pygments_lexer": "ipython3",
   "version": "3.7.4"
  }
 },
 "nbformat": 4,
 "nbformat_minor": 2
}
