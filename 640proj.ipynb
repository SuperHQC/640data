{
 "cells": [
  {
   "cell_type": "code",
   "execution_count": 1,
   "metadata": {},
   "outputs": [],
   "source": [
    "import cv2\n",
    "import csv"
   ]
  },
  {
   "cell_type": "code",
   "execution_count": 2,
   "metadata": {},
   "outputs": [],
   "source": [
    "filenames = []\n",
    "labels = []\n",
    "with open('Labels.csv') as index:\n",
    "    index = csv.reader(index)\n",
    "    for r in index:\n",
    "        filenames.append(r[0])\n",
    "        labels.append(r[1])\n",
    "        \n",
    "del filenames[0]\n",
    "del labels[0]"
   ]
  },
  {
   "cell_type": "code",
   "execution_count": 3,
   "metadata": {},
   "outputs": [],
   "source": [
    "import numpy as np"
   ]
  },
  {
   "cell_type": "code",
   "execution_count": 4,
   "metadata": {},
   "outputs": [],
   "source": [
    "labels_hot = []\n",
    "for x in labels:\n",
    "    if x == 'Positive':\n",
    "        labels_hot.append([1,0,0])\n",
    "    if x == 'Neutral':\n",
    "        labels_hot.append([0,1,0])\n",
    "    if x == 'Negative':\n",
    "        labels_hot.append([0,0,1])"
   ]
  },
  {
   "cell_type": "code",
   "execution_count": 5,
   "metadata": {},
   "outputs": [],
   "source": [
    "lb_idx = 0\n",
    "final_label=[]\n",
    "f_idx = 0\n",
    "classfier = cv2.CascadeClassifier('haarcascade_frontalface_alt2.xml')\n",
    "color = (0,255,0)\n",
    "for file in filenames:\n",
    "    filename = './presidential_videos/' + file\n",
    "    cap = cv2.VideoCapture(filename)\n",
    "    count = 0\n",
    "    while(cap.isOpened()):\n",
    "        success, frame = cap.read()\n",
    "        if not success:\n",
    "            break\n",
    "        gray = cv2.cvtColor(frame,cv2.COLOR_BGR2GRAY)\n",
    "        faceRects = classfier.detectMultiScale(gray, scaleFactor=1.5,minNeighbors=8, minSize=(32,32))\n",
    "        \n",
    "        if len(faceRects)>0:\n",
    "            for fr in faceRects:\n",
    "                x,y,w,h = fr\n",
    "#                 cv2.rectangle(frame,(x-20,y-20), (x+w+10,y+h+10), color, 1)\n",
    "                image = frame[y:y+h, x:x+w]\n",
    "                im_name = './data/' + str(f_idx)+'.jpg'\n",
    "                final_label.append(labels[lb_idx])\n",
    "                f_idx += 1\n",
    "                cv2.imwrite(im_name, image)\n",
    "                count += 1\n",
    "#                 cv2.imshow('frame', frame)\n",
    "#         if cv2.waitKey(1) & 0xFF == ord('q'):\n",
    "#             break\n",
    "        if count >= 30:\n",
    "            break\n",
    "    lb_idx += 1\n",
    "#     break\n",
    "# cv2.destroyAllWindows()\n",
    "cap.release()"
   ]
  },
  {
   "cell_type": "code",
   "execution_count": 6,
   "metadata": {},
   "outputs": [
    {
     "name": "stdout",
     "output_type": "stream",
     "text": [
      "27499\n"
     ]
    }
   ],
   "source": [
    "print(len(final_label))"
   ]
  },
  {
   "cell_type": "code",
   "execution_count": 7,
   "metadata": {},
   "outputs": [],
   "source": [
    "import os\n",
    "\n",
    "image_size = 64\n",
    "def resize_img(image, height = image_size, width = image_size):\n",
    "    top,bottom, left, right = (0,0,0,0)\n",
    "    \n",
    "    h,w,_=image.shape\n",
    "    \n",
    "    longest_edge = max(h,w)\n",
    "    \n",
    "    if h < longest_edge:\n",
    "        dh = longest_edge - h\n",
    "        top = dh // 2\n",
    "        bottom = dh - top\n",
    "    elif w < longest_edge:\n",
    "        dw = longest_edge - w\n",
    "        left = dw // 2\n",
    "        right = dw - left\n",
    "    else:\n",
    "        pass\n",
    "    \n",
    "    BLACK = [0,0,0]\n",
    "    constant = cv2.copyMakeBorder(image, top,bottom, left,right, cv2.BORDER_CONSTANT,value = BLACK)\n",
    "    \n",
    "    return cv2.resize(constant, (height,width))"
   ]
  },
  {
   "cell_type": "code",
   "execution_count": 8,
   "metadata": {},
   "outputs": [
    {
     "name": "stdout",
     "output_type": "stream",
     "text": [
      "27499\n",
      "27499\n"
     ]
    }
   ],
   "source": [
    "images = []\n",
    "\n",
    "\n",
    "for i in range(len(final_label)):\n",
    "    img_name = str(i) +'.jpg'\n",
    "    image = cv2.imread('./data/'+img_name)\n",
    "    if image is None:\n",
    "        del final_label[i]\n",
    "    else:\n",
    "        image = resize_img(image, image_size, image_size)\n",
    "        images.append(image)\n",
    "        \n",
    "print(len(images))\n",
    "print(len(final_label))\n",
    "        "
   ]
  },
  {
   "cell_type": "code",
   "execution_count": 9,
   "metadata": {},
   "outputs": [
    {
     "name": "stdout",
     "output_type": "stream",
     "text": [
      "(27499, 64, 64, 3)\n",
      "(27499,)\n"
     ]
    }
   ],
   "source": [
    "images = np.array(images, dtype='float')\n",
    "final_label = np.array(final_label)\n",
    "\n",
    "print(images.shape)\n",
    "print(final_label.shape)\n",
    "\n"
   ]
  },
  {
   "cell_type": "code",
   "execution_count": 15,
   "metadata": {},
   "outputs": [],
   "source": [
    "import keras\n",
    "from sklearn.model_selection import train_test_split\n",
    "from keras.preprocessing.image import ImageDataGenerator\n",
    "from keras.models import Sequential\n",
    "from keras.layers import Dense, Dropout, Activation, Flatten, Conv2D, MaxPooling2D\n",
    "from keras.optimizers import SGD\n",
    "from keras.models import load_model\n",
    "from keras import backend as K"
   ]
  },
  {
   "cell_type": "code",
   "execution_count": 17,
   "metadata": {},
   "outputs": [
    {
     "name": "stdout",
     "output_type": "stream",
     "text": [
      "['Neutral' 'Positive' 'Neutral' ... 'Neutral' 'Neutral' 'Positive']\n"
     ]
    }
   ],
   "source": [
    "import random\n",
    "train_images, test_images, train_labels, test_labels = train_test_split(images, final_label, test_size = 0.3, random_state = random.randint(0,100))\n",
    "print(test_labels)"
   ]
  },
  {
   "cell_type": "code",
   "execution_count": 22,
   "metadata": {},
   "outputs": [],
   "source": [
    "img_channels = 3"
   ]
  },
  {
   "cell_type": "code",
   "execution_count": 25,
   "metadata": {},
   "outputs": [],
   "source": [
    "\n",
    "if K.image_data_format == 'channel_first':\n",
    "    train_images = train_images.reshape(train_images.shape[0],img_channels, image_size, image_size)\n",
    "    test_images = test_images.reshape(test_images.shape[0],img_channels, image_size, image_size)\n",
    "    input_shape = (img_channels, image_size, image_size)\n",
    "else:\n",
    "    train_images = train_images.reshape(train_images.shape[0], image_size, image_size, img_channels)\n",
    "    test_images = test_images.reshape(test_images.shape[0], image_size, image_size, img_channels)\n",
    "    input_shape = (image_size, image_size, img_channels)"
   ]
  },
  {
   "cell_type": "code",
   "execution_count": 26,
   "metadata": {},
   "outputs": [
    {
     "name": "stdout",
     "output_type": "stream",
     "text": [
      "19249 train samples\n",
      "8250 test samples\n"
     ]
    }
   ],
   "source": [
    "print(train_images.shape[0],'train samples')\n",
    "print(test_images.shape[0], 'test samples')"
   ]
  },
  {
   "cell_type": "code",
   "execution_count": 27,
   "metadata": {},
   "outputs": [],
   "source": [
    "train_images /= 255\n",
    "test_images /= 255"
   ]
  },
  {
   "cell_type": "code",
   "execution_count": null,
   "metadata": {},
   "outputs": [],
   "source": [
    "train_labels = train_labels.tolist()\n",
    "test_labels = test_labels.tolist()"
   ]
  },
  {
   "cell_type": "code",
   "execution_count": 40,
   "metadata": {},
   "outputs": [],
   "source": [
    "train_labels_hot = []\n",
    "test_labels_hot = []\n",
    "for x in train_labels:\n",
    "    if x == 'Positive':\n",
    "        train_labels_hot.append([1,0,0])\n",
    "    if x == 'Neutral':\n",
    "        train_labels_hot.append([0,1,0])\n",
    "    if x == 'Negative':\n",
    "        train_labels_hot.append([0,0,1])\n",
    "        \n",
    "for x in test_labels:\n",
    "    if x == 'Positive':\n",
    "        test_labels_hot.append([1,0,0])\n",
    "    if x == 'Neutral':\n",
    "        test_labels_hot.append([0,1,0])\n",
    "    if x == 'Negative':\n",
    "        test_labels_hot.append([0,0,1])"
   ]
  },
  {
   "cell_type": "code",
   "execution_count": 64,
   "metadata": {},
   "outputs": [],
   "source": [
    "np.savetxt('final_label.csv',final_label, delimiter=',',fmt = '%s')"
   ]
  },
  {
   "cell_type": "code",
   "execution_count": 65,
   "metadata": {},
   "outputs": [],
   "source": [
    "test = []\n",
    "with open('final_label.csv') as a:\n",
    "    a = csv.reader(a)\n",
    "    for r in a:\n",
    "        test.append(r)"
   ]
  },
  {
   "cell_type": "code",
   "execution_count": 72,
   "metadata": {},
   "outputs": [],
   "source": [
    "class Model:\n",
    "    def __init__(self):\n",
    "        self.model = None\n",
    "    def build_model(self, input_shape, nb_classes=3):\n",
    "        self.model = Sequential()\n",
    "        self.model.add(Conv2D(32, (3, 3), padding = 'same', input_shape = input_shape))\n",
    "        self.model.add(Activation('relu'))\n",
    "        self.model.add(Conv2D(32, (3, 3)))\n",
    "        self.model.add(Activation('relu'))\n",
    "        self.model.add(MaxPooling2D(pool_size = (2,2)))\n",
    "        self.model.add(Conv2D(64, (3, 3), padding = 'same'))\n",
    "        self.model.add(Activation('relu'))\n",
    "        self.model.add(Conv2D(64, (3, 3)))\n",
    "        self.model.add(Activation('relu'))\n",
    "        self.model.add(MaxPooling2D(pool_size = (2,2)))\n",
    "        self.model.add(Dropout(0.25))\n",
    "        self.model.add(Flatten())\n",
    "        self.model.add(Dense(512))\n",
    "        self.model.add(Activation('relu'))\n",
    "        self.model.add(Dropout(0.25))\n",
    "        self.model.add(Dense(nb_classes))\n",
    "        self.model.add(Activation('softmax'))\n",
    "        \n",
    "    def train(self, train_images, train_labels, batch_size = 128, nb_epoch = 15, data_augmentation = True):\n",
    "        self.model.compile(loss = 'categorical_crossentropy', \n",
    "                           optimizer = 'ADAM',\n",
    "                           metrics = ['accuracy'])\n",
    "        if not data_augmentation:\n",
    "            self.model.fit(train_images, \n",
    "                           train_labels, \n",
    "                           batch_size = batch_size,\n",
    "                           epochs = nb_epoch, \n",
    "                           shuffle = True)\n",
    "        else:\n",
    "            datagen = ImageDataGenerator(rotation_range = 20,\n",
    "                                        width_shift_range = 0.2,\n",
    "                                        height_shift_range = 0.2,\n",
    "                                        horizontal_flip = True)\n",
    "            \n",
    "            self.model.fit_generator(datagen.flow(train_images, train_labels, batch_size = batch_size), epochs = nb_epoch)\n",
    "            \n",
    "    def evaluate(sefl, test_images, test_labels):\n",
    "        score = self.model.evaluate(test_images, test_labels)\n",
    "        print(\"%s:%.3f%%\" % (self.model.metrics_names[1], score[1]*100))\n",
    "        "
   ]
  },
  {
   "cell_type": "code",
   "execution_count": 73,
   "metadata": {},
   "outputs": [],
   "source": [
    "model = Model()"
   ]
  },
  {
   "cell_type": "code",
   "execution_count": 74,
   "metadata": {},
   "outputs": [],
   "source": [
    "model.build_model(input_shape,3)"
   ]
  },
  {
   "cell_type": "code",
   "execution_count": 80,
   "metadata": {},
   "outputs": [
    {
     "data": {
      "text/plain": [
       "array([[0, 1, 0],\n",
       "       [1, 0, 0],\n",
       "       [0, 1, 0],\n",
       "       ...,\n",
       "       [0, 1, 0],\n",
       "       [0, 1, 0],\n",
       "       [1, 0, 0]])"
      ]
     },
     "execution_count": 80,
     "metadata": {},
     "output_type": "execute_result"
    }
   ],
   "source": [
    "np.array(train_labels_hot)\n",
    "np.array(test_labels_hot)"
   ]
  },
  {
   "cell_type": "code",
   "execution_count": null,
   "metadata": {},
   "outputs": [],
   "source": []
  },
  {
   "cell_type": "code",
   "execution_count": null,
   "metadata": {},
   "outputs": [
    {
     "name": "stdout",
     "output_type": "stream",
     "text": [
      "Epoch 1/30\n",
      "151/151 [==============================] - 127s 841ms/step - loss: 0.9517 - accuracy: 0.5440\n",
      "Epoch 2/30\n",
      "151/151 [==============================] - 128s 849ms/step - loss: 0.9186 - accuracy: 0.5665\n",
      "Epoch 3/30\n",
      "151/151 [==============================] - 128s 850ms/step - loss: 0.8863 - accuracy: 0.5881\n",
      "Epoch 4/30\n",
      "151/151 [==============================] - 136s 904ms/step - loss: 0.8562 - accuracy: 0.5990\n",
      "Epoch 5/30\n",
      "151/151 [==============================] - 131s 866ms/step - loss: 0.8293 - accuracy: 0.6143\n",
      "Epoch 6/30\n",
      "151/151 [==============================] - 126s 834ms/step - loss: 0.8099 - accuracy: 0.6237\n",
      "Epoch 7/30\n",
      "151/151 [==============================] - 127s 842ms/step - loss: 0.7911 - accuracy: 0.6374\n",
      "Epoch 8/30\n",
      "151/151 [==============================] - 125s 827ms/step - loss: 0.7723 - accuracy: 0.6457\n",
      "Epoch 9/30\n",
      "151/151 [==============================] - 130s 859ms/step - loss: 0.7557 - accuracy: 0.6540\n",
      "Epoch 10/30\n",
      "151/151 [==============================] - 129s 856ms/step - loss: 0.7406 - accuracy: 0.6610\n",
      "Epoch 11/30\n",
      "151/151 [==============================] - 127s 838ms/step - loss: 0.7338 - accuracy: 0.6627\n",
      "Epoch 12/30\n",
      "151/151 [==============================] - 132s 876ms/step - loss: 0.7086 - accuracy: 0.6759\n",
      "Epoch 13/30\n",
      "151/151 [==============================] - 128s 844ms/step - loss: 0.7071 - accuracy: 0.6780\n",
      "Epoch 14/30\n",
      "151/151 [==============================] - 132s 874ms/step - loss: 0.6911 - accuracy: 0.6882\n",
      "Epoch 15/30\n",
      "102/151 [===================>..........] - ETA: 42s - loss: 0.6753 - accuracy: 0.6975"
     ]
    }
   ],
   "source": [
    "model.train(train_images, train_labels_hot, 128,30,True)"
   ]
  },
  {
   "cell_type": "code",
   "execution_count": null,
   "metadata": {},
   "outputs": [],
   "source": []
  }
 ],
 "metadata": {
  "kernelspec": {
   "display_name": "Python 3",
   "language": "python",
   "name": "python3"
  },
  "language_info": {
   "codemirror_mode": {
    "name": "ipython",
    "version": 3
   },
   "file_extension": ".py",
   "mimetype": "text/x-python",
   "name": "python",
   "nbconvert_exporter": "python",
   "pygments_lexer": "ipython3",
   "version": "3.7.4"
  }
 },
 "nbformat": 4,
 "nbformat_minor": 2
}
